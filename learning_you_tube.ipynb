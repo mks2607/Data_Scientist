{
  "nbformat": 4,
  "nbformat_minor": 0,
  "metadata": {
    "colab": {
      "provenance": [],
      "authorship_tag": "ABX9TyMafcaOh5GD9KjnrC9aTq4+",
      "include_colab_link": true
    },
    "kernelspec": {
      "name": "python3",
      "display_name": "Python 3"
    },
    "language_info": {
      "name": "python"
    }
  },
  "cells": [
    {
      "cell_type": "markdown",
      "metadata": {
        "id": "view-in-github",
        "colab_type": "text"
      },
      "source": [
        "<a href=\"https://colab.research.google.com/github/mks2607/Data_Scientist/blob/mks2607/learning_you_tube.ipynb\" target=\"_parent\"><img src=\"https://colab.research.google.com/assets/colab-badge.svg\" alt=\"Open In Colab\"/></a>"
      ]
    },
    {
      "cell_type": "code",
      "source": [
        "r"
      ],
      "metadata": {
        "colab": {
          "base_uri": "https://localhost:8080/"
        },
        "id": "-czVgwmSZITK",
        "outputId": "669d4130-b79a-41bb-d003-843ed7b5f744"
      },
      "execution_count": null,
      "outputs": [
        {
          "output_type": "execute_result",
          "data": {
            "text/plain": [
              "43.3"
            ]
          },
          "metadata": {},
          "execution_count": 8
        }
      ]
    },
    {
      "cell_type": "code",
      "source": [
        "a = float(input('введите число 1: '))\n",
        "b = float(input('введите число 2: '))\n",
        "c = float(input('введите число 3: '))\n",
        "\n",
        "p = a+b+c\n",
        "\n",
        "p"
      ],
      "metadata": {
        "colab": {
          "base_uri": "https://localhost:8080/"
        },
        "id": "o4SumxnCZMCC",
        "outputId": "aa8107bb-826b-47ae-8119-5e67e42c539b"
      },
      "execution_count": null,
      "outputs": [
        {
          "name": "stdout",
          "output_type": "stream",
          "text": [
            "введите число 1: 123\n",
            "введите число 2: 446\n",
            "введите число 3: 32\n"
          ]
        },
        {
          "output_type": "execute_result",
          "data": {
            "text/plain": [
              "601.0"
            ]
          },
          "metadata": {},
          "execution_count": 12
        }
      ]
    },
    {
      "cell_type": "code",
      "source": [
        "a = int(input())\n",
        "print(a*a)"
      ],
      "metadata": {
        "colab": {
          "base_uri": "https://localhost:8080/"
        },
        "id": "GG-qC6_0aN2R",
        "outputId": "4a128096-ed3e-4e4c-daf5-18b13da2813c"
      },
      "execution_count": null,
      "outputs": [
        {
          "output_type": "stream",
          "name": "stdout",
          "text": [
            "284\n",
            "80656\n"
          ]
        }
      ]
    },
    {
      "cell_type": "code",
      "source": [
        "b = 41333\n",
        "c = 324\n",
        "a = b//c\n",
        "a"
      ],
      "metadata": {
        "colab": {
          "base_uri": "https://localhost:8080/"
        },
        "id": "GTrlq194bBpN",
        "outputId": "f7722b3a-1423-4409-9727-49628c5cd401"
      },
      "execution_count": null,
      "outputs": [
        {
          "output_type": "execute_result",
          "data": {
            "text/plain": [
              "127"
            ]
          },
          "metadata": {},
          "execution_count": 26
        }
      ]
    },
    {
      "cell_type": "code",
      "source": [
        "a = 47865\n",
        "print(a//1000%10) #// - зачеркивает последние числа. % - оставляет последнее число."
      ],
      "metadata": {
        "colab": {
          "base_uri": "https://localhost:8080/"
        },
        "id": "6phC3_8AbQld",
        "outputId": "1c0baf45-c52d-46d0-e925-524218e6a215"
      },
      "execution_count": null,
      "outputs": [
        {
          "output_type": "stream",
          "name": "stdout",
          "text": [
            "7\n"
          ]
        }
      ]
    },
    {
      "cell_type": "code",
      "source": [
        "x = int(input())\n",
        "a = x//10000\n",
        "b = x//1000%10\n",
        "c = x//100%10\n",
        "d = x//10%10\n",
        "e = x%10\n",
        "\n",
        "print(a,b,c,d,e,sep=\"x\")"
      ],
      "metadata": {
        "colab": {
          "base_uri": "https://localhost:8080/"
        },
        "id": "4r-atScjc2SG",
        "outputId": "c8ac0a37-ab9e-4ec9-c2d9-3b628be0b989"
      },
      "execution_count": null,
      "outputs": [
        {
          "output_type": "stream",
          "name": "stdout",
          "text": [
            "49586\n",
            "4x9x5x8x6\n"
          ]
        }
      ]
    },
    {
      "cell_type": "code",
      "source": [
        "#trunc,floor,ceel\n",
        "\n",
        "import math\n",
        "math.trunc(32.9463) #функция отсекает последнюю ччасть числа\n",
        "\n"
      ],
      "metadata": {
        "colab": {
          "base_uri": "https://localhost:8080/"
        },
        "id": "Icqf2W4tdyAs",
        "outputId": "ad36f6af-8506-47bc-f3b0-94349ec1375e"
      },
      "execution_count": null,
      "outputs": [
        {
          "output_type": "execute_result",
          "data": {
            "text/plain": [
              "32"
            ]
          },
          "metadata": {},
          "execution_count": 56
        }
      ]
    },
    {
      "cell_type": "code",
      "source": [
        "a = math.floor(-32.89998989) #аккуратнее с минусовымми значениями, округляет в меньшую сторону\n",
        "b = math.floor(32.89998989) #округление вниз\n",
        "\n",
        "print(a)\n",
        "print(b)"
      ],
      "metadata": {
        "colab": {
          "base_uri": "https://localhost:8080/"
        },
        "id": "GKn40RgcfzvO",
        "outputId": "d6c7a2b4-19f2-46a7-d867-c1a6b0b1c14b"
      },
      "execution_count": null,
      "outputs": [
        {
          "output_type": "stream",
          "name": "stdout",
          "text": [
            "-33\n",
            "32\n"
          ]
        }
      ]
    },
    {
      "cell_type": "code",
      "source": [
        "math.ceil(4.0001) #округление вверх"
      ],
      "metadata": {
        "colab": {
          "base_uri": "https://localhost:8080/"
        },
        "id": "GDSqxH36g2hg",
        "outputId": "499615e8-cdae-488f-f764-20831f2368bc"
      },
      "execution_count": null,
      "outputs": [
        {
          "output_type": "execute_result",
          "data": {
            "text/plain": [
              "5"
            ]
          },
          "metadata": {},
          "execution_count": 68
        }
      ]
    },
    {
      "cell_type": "code",
      "source": [
        "True\n",
        "False\n",
        "5>1\n",
        "4 == 4 #сравнение, а \"=\" присваиваниее\n",
        "\n",
        "6 <= 4"
      ],
      "metadata": {
        "colab": {
          "base_uri": "https://localhost:8080/"
        },
        "id": "MabiI_l7hQSD",
        "outputId": "bf372654-df6c-4841-b77e-f3b9ef4eaa80"
      },
      "execution_count": null,
      "outputs": [
        {
          "output_type": "execute_result",
          "data": {
            "text/plain": [
              "False"
            ]
          },
          "metadata": {},
          "execution_count": 81
        }
      ]
    },
    {
      "cell_type": "code",
      "source": [
        "\n",
        "x = [1,2,3,4,5,6,7,8,9]\n",
        "\n",
        "x[4]%3 != 0\n",
        "\n"
      ],
      "metadata": {
        "colab": {
          "base_uri": "https://localhost:8080/"
        },
        "id": "ngGpqEBXhupB",
        "outputId": "26dbd699-cd0e-49aa-a5b3-431ce029cf97"
      },
      "execution_count": null,
      "outputs": [
        {
          "output_type": "execute_result",
          "data": {
            "text/plain": [
              "True"
            ]
          },
          "metadata": {},
          "execution_count": 96
        }
      ]
    },
    {
      "cell_type": "code",
      "source": [
        "a = 50\n",
        "b = 7\n",
        "\n",
        "print((a>0)& (b >0) & (a+b>0))"
      ],
      "metadata": {
        "colab": {
          "base_uri": "https://localhost:8080/"
        },
        "id": "srT1IoCwikiC",
        "outputId": "4ce4403c-f036-4695-c21d-c193d17f802b"
      },
      "execution_count": null,
      "outputs": [
        {
          "output_type": "stream",
          "name": "stdout",
          "text": [
            "True\n"
          ]
        }
      ]
    },
    {
      "cell_type": "code",
      "source": [
        "#not\n",
        "#and\n",
        "#or\n",
        "\n",
        "bool(0) #любое непустое значение - считается истиным,минусовые значения - это тоже тру, не тру являются только 0.\n",
        "\n"
      ],
      "metadata": {
        "colab": {
          "base_uri": "https://localhost:8080/"
        },
        "id": "Wj-QRZiQjH7F",
        "outputId": "a8aa8eb7-bcb9-4aaa-fd54-fe4617bd4273"
      },
      "execution_count": null,
      "outputs": [
        {
          "output_type": "execute_result",
          "data": {
            "text/plain": [
              "False"
            ]
          },
          "metadata": {},
          "execution_count": 114
        }
      ]
    },
    {
      "cell_type": "code",
      "source": [
        "print(\"\"\"hello\n",
        "test\"\"\")\n",
        "\n"
      ],
      "metadata": {
        "colab": {
          "base_uri": "https://localhost:8080/"
        },
        "id": "Wm4tz-8_kDlA",
        "outputId": "72833358-9433-43df-e457-bcc48b464719"
      },
      "execution_count": null,
      "outputs": [
        {
          "output_type": "stream",
          "name": "stdout",
          "text": [
            "hello\n",
            "test\n"
          ]
        }
      ]
    },
    {
      "cell_type": "code",
      "source": [
        "s  = ' hello'\n",
        "r = input()"
      ],
      "metadata": {
        "colab": {
          "base_uri": "https://localhost:8080/"
        },
        "id": "sycH8NFYkpo0",
        "outputId": "8dd52e35-e48a-46cc-bd2f-f6945c72a449"
      },
      "execution_count": null,
      "outputs": [
        {
          "name": "stdout",
          "output_type": "stream",
          "text": [
            "world\n"
          ]
        }
      ]
    },
    {
      "cell_type": "code",
      "source": [
        "r"
      ],
      "metadata": {
        "colab": {
          "base_uri": "https://localhost:8080/",
          "height": 35
        },
        "id": "T-iqnaBlk2Wg",
        "outputId": "c1694106-1833-4cba-df1a-f54e0004e089"
      },
      "execution_count": null,
      "outputs": [
        {
          "output_type": "execute_result",
          "data": {
            "text/plain": [
              "'world'"
            ],
            "application/vnd.google.colaboratory.intrinsic+json": {
              "type": "string"
            }
          },
          "metadata": {},
          "execution_count": 124
        }
      ]
    },
    {
      "cell_type": "code",
      "source": [
        "d = ' '\n",
        "e = ''\n",
        "\n",
        "#конкатинация - скрепление строк"
      ],
      "metadata": {
        "colab": {
          "base_uri": "https://localhost:8080/",
          "height": 35
        },
        "id": "zBCkkCw3k3lq",
        "outputId": "4c1e4aeb-3d92-4f63-f396-824646d4b4b2"
      },
      "execution_count": null,
      "outputs": [
        {
          "output_type": "execute_result",
          "data": {
            "text/plain": [
              "''"
            ],
            "application/vnd.google.colaboratory.intrinsic+json": {
              "type": "string"
            }
          },
          "metadata": {},
          "execution_count": 126
        }
      ]
    },
    {
      "cell_type": "code",
      "source": [
        "'abc'+'dec'"
      ],
      "metadata": {
        "colab": {
          "base_uri": "https://localhost:8080/",
          "height": 35
        },
        "id": "Es9JkGXalAvH",
        "outputId": "46aabbc3-ad12-460f-b731-812911624662"
      },
      "execution_count": null,
      "outputs": [
        {
          "output_type": "execute_result",
          "data": {
            "text/plain": [
              "'abcdec'"
            ],
            "application/vnd.google.colaboratory.intrinsic+json": {
              "type": "string"
            }
          },
          "metadata": {},
          "execution_count": 127
        }
      ]
    },
    {
      "cell_type": "code",
      "source": [
        "print(s+' '+r)\n",
        "print(a*5)"
      ],
      "metadata": {
        "colab": {
          "base_uri": "https://localhost:8080/"
        },
        "id": "iQG-0R0PlGEQ",
        "outputId": "db15da6e-c3b0-4a3e-dc7e-15f4126f286c"
      },
      "execution_count": null,
      "outputs": [
        {
          "output_type": "stream",
          "name": "stdout",
          "text": [
            " hello world\n",
            "250\n"
          ]
        }
      ]
    },
    {
      "cell_type": "code",
      "source": [
        "len(s)"
      ],
      "metadata": {
        "colab": {
          "base_uri": "https://localhost:8080/"
        },
        "id": "ERudoEhmlcLP",
        "outputId": "12f9a840-b603-4667-fc25-9cc1bfd98bc8"
      },
      "execution_count": null,
      "outputs": [
        {
          "output_type": "execute_result",
          "data": {
            "text/plain": [
              "6"
            ]
          },
          "metadata": {},
          "execution_count": 134
        }
      ]
    },
    {
      "cell_type": "code",
      "source": [
        "s =input()\n",
        "print(\"Вы ввели\",len(s),\"символов\")"
      ],
      "metadata": {
        "colab": {
          "base_uri": "https://localhost:8080/"
        },
        "id": "3Bq9NTn5le1s",
        "outputId": "1f61092a-caf8-47aa-c443-e0fd717cf0a3"
      },
      "execution_count": null,
      "outputs": [
        {
          "output_type": "stream",
          "name": "stdout",
          "text": [
            "2345346\n",
            "Вы ввели 7 символов\n"
          ]
        }
      ]
    },
    {
      "cell_type": "code",
      "source": [
        "\"455\" in s"
      ],
      "metadata": {
        "colab": {
          "base_uri": "https://localhost:8080/"
        },
        "id": "NHxkLIDdl0ai",
        "outputId": "3d8e9ac6-8d82-49ff-f912-1aa31c8d9182"
      },
      "execution_count": null,
      "outputs": [
        {
          "output_type": "execute_result",
          "data": {
            "text/plain": [
              "False"
            ]
          },
          "metadata": {},
          "execution_count": 145
        }
      ]
    },
    {
      "cell_type": "code",
      "source": [
        "'aba' > 'aca' #сравниваются коды символов"
      ],
      "metadata": {
        "colab": {
          "base_uri": "https://localhost:8080/"
        },
        "id": "r7PXLc8tmb9x",
        "outputId": "3f874c8b-4773-4a01-9e80-070c01e281af"
      },
      "execution_count": null,
      "outputs": [
        {
          "output_type": "execute_result",
          "data": {
            "text/plain": [
              "False"
            ]
          },
          "metadata": {},
          "execution_count": 157
        }
      ]
    },
    {
      "cell_type": "code",
      "source": [
        "ord('е')"
      ],
      "metadata": {
        "colab": {
          "base_uri": "https://localhost:8080/"
        },
        "id": "I3lnpy1rmr8c",
        "outputId": "4fe4083f-4072-46fe-eed9-705182d6465a"
      },
      "execution_count": null,
      "outputs": [
        {
          "output_type": "execute_result",
          "data": {
            "text/plain": [
              "1077"
            ]
          },
          "metadata": {},
          "execution_count": 163
        }
      ]
    },
    {
      "cell_type": "code",
      "source": [
        "ord('b')"
      ],
      "metadata": {
        "colab": {
          "base_uri": "https://localhost:8080/"
        },
        "id": "6f_iurqomxH8",
        "outputId": "acf5b2de-6076-4c79-f215-f13fb5690fa7"
      },
      "execution_count": null,
      "outputs": [
        {
          "output_type": "execute_result",
          "data": {
            "text/plain": [
              "98"
            ]
          },
          "metadata": {},
          "execution_count": 156
        }
      ]
    },
    {
      "cell_type": "code",
      "source": [
        "'aaa' > 'aaaa'"
      ],
      "metadata": {
        "colab": {
          "base_uri": "https://localhost:8080/"
        },
        "id": "NDSLstW4nCuy",
        "outputId": "8405f410-607c-4e09-fc26-a0869639dc2d"
      },
      "execution_count": null,
      "outputs": [
        {
          "output_type": "execute_result",
          "data": {
            "text/plain": [
              "False"
            ]
          },
          "metadata": {},
          "execution_count": 164
        }
      ]
    },
    {
      "cell_type": "code",
      "source": [
        "'''heelo\n",
        "world\n",
        "and\n",
        "averiwon'''"
      ],
      "metadata": {
        "colab": {
          "base_uri": "https://localhost:8080/",
          "height": 35
        },
        "id": "_L8Y--HuTAOW",
        "outputId": "7df31f84-8aab-4222-b51d-06336ea2beb8"
      },
      "execution_count": null,
      "outputs": [
        {
          "output_type": "execute_result",
          "data": {
            "text/plain": [
              "'heelo\\nworld\\nand\\naveriwon'"
            ],
            "application/vnd.google.colaboratory.intrinsic+json": {
              "type": "string"
            }
          },
          "metadata": {},
          "execution_count": 5
        }
      ]
    },
    {
      "cell_type": "code",
      "source": [
        "a = 3\n",
        "'abc'+str(a)\n"
      ],
      "metadata": {
        "colab": {
          "base_uri": "https://localhost:8080/",
          "height": 35
        },
        "id": "Ph-PkoJJTRXz",
        "outputId": "a712012e-e72e-4edd-de8b-23c5b9c01f20"
      },
      "execution_count": null,
      "outputs": [
        {
          "output_type": "execute_result",
          "data": {
            "text/plain": [
              "'abc3'"
            ],
            "application/vnd.google.colaboratory.intrinsic+json": {
              "type": "string"
            }
          },
          "metadata": {},
          "execution_count": 9
        }
      ]
    },
    {
      "cell_type": "markdown",
      "source": [
        "индексы и срезы"
      ],
      "metadata": {
        "id": "5oJSZef1T3yp"
      }
    },
    {
      "cell_type": "code",
      "source": [
        "s = 'hello world'\n",
        "len(s)\n",
        "print(s[6])\n",
        "print(s[4:10:2])\n",
        "s[len]"
      ],
      "metadata": {
        "colab": {
          "base_uri": "https://localhost:8080/"
        },
        "id": "kl8TZDhHT7GY",
        "outputId": "20407335-8ab8-408c-8d94-c2aa5f580669"
      },
      "execution_count": null,
      "outputs": [
        {
          "output_type": "stream",
          "name": "stdout",
          "text": [
            "w\n",
            "owr\n"
          ]
        }
      ]
    },
    {
      "cell_type": "code",
      "source": [
        "s[len(s)-1] #последняя буква"
      ],
      "metadata": {
        "colab": {
          "base_uri": "https://localhost:8080/",
          "height": 35
        },
        "id": "cnV8nXMSUmM5",
        "outputId": "18c0448c-b943-49be-859e-04585f63961a"
      },
      "execution_count": null,
      "outputs": [
        {
          "output_type": "execute_result",
          "data": {
            "text/plain": [
              "'d'"
            ],
            "application/vnd.google.colaboratory.intrinsic+json": {
              "type": "string"
            }
          },
          "metadata": {},
          "execution_count": 19
        }
      ]
    },
    {
      "cell_type": "code",
      "source": [
        "s[-1] #так же последний индекс строки s"
      ],
      "metadata": {
        "colab": {
          "base_uri": "https://localhost:8080/",
          "height": 35
        },
        "id": "YkMR7-qzUxfs",
        "outputId": "b1b023e4-8015-4ba6-a5fe-b0ca40de5831"
      },
      "execution_count": null,
      "outputs": [
        {
          "output_type": "execute_result",
          "data": {
            "text/plain": [
              "'d'"
            ],
            "application/vnd.google.colaboratory.intrinsic+json": {
              "type": "string"
            }
          },
          "metadata": {},
          "execution_count": 20
        }
      ]
    },
    {
      "cell_type": "code",
      "source": [
        "s[2::1]"
      ],
      "metadata": {
        "colab": {
          "base_uri": "https://localhost:8080/",
          "height": 35
        },
        "id": "ixHZbeGBU5A4",
        "outputId": "effda9ff-8af1-4369-980f-c127581b4ee1"
      },
      "execution_count": null,
      "outputs": [
        {
          "output_type": "execute_result",
          "data": {
            "text/plain": [
              "'llo world'"
            ],
            "application/vnd.google.colaboratory.intrinsic+json": {
              "type": "string"
            }
          },
          "metadata": {},
          "execution_count": 21
        }
      ]
    },
    {
      "cell_type": "markdown",
      "source": [
        "дз - какие дестия для сортировки необходимы. поэтапно - шаги."
      ],
      "metadata": {
        "id": "xfiSh5QOZ40j"
      }
    },
    {
      "cell_type": "code",
      "source": [
        "# put your python code here\n",
        "\n",
        "st = 'Кирилл Мельников'\n",
        "\n",
        "name,surname = st.split()\n",
        "print(name)\n",
        "print(surname)\n",
        "\n",
        "if name.isalpha() and surname.isalpha():\n",
        "    print(f'Привет, {name} {surname}!')\n",
        "else:\n",
        "    print('Некорректные имя или фамилия')\n",
        "\n",
        "\n"
      ],
      "metadata": {
        "colab": {
          "base_uri": "https://localhost:8080/"
        },
        "id": "vVr7CpJFaRWV",
        "outputId": "8e2a3ab8-5bae-4bf1-9fbd-23e34614ee33"
      },
      "execution_count": null,
      "outputs": [
        {
          "output_type": "stream",
          "name": "stdout",
          "text": [
            "Кирилл\n",
            "Мельников\n",
            "Привет, Кирилл Мельников!\n"
          ]
        }
      ]
    },
    {
      "cell_type": "code",
      "source": [
        "st = \"abc\"\n",
        "\n",
        "if st.isalpha():\n",
        "  print(\"Только буквы\")\n",
        "else:\n",
        "  print('есть цифры и др символы')"
      ],
      "metadata": {
        "colab": {
          "base_uri": "https://localhost:8080/"
        },
        "id": "564cHZUkbnEU",
        "outputId": "912b78e6-5e88-4910-a1a8-c3a41899e9c6"
      },
      "execution_count": null,
      "outputs": [
        {
          "output_type": "stream",
          "name": "stdout",
          "text": [
            "Только буквы\n"
          ]
        }
      ]
    },
    {
      "cell_type": "code",
      "source": [
        "a = input()\n",
        "\n",
        "words = a.split()\n",
        "\n",
        "for word in words:\n",
        "\n",
        "  print(word[0],end='')"
      ],
      "metadata": {
        "colab": {
          "base_uri": "https://localhost:8080/"
        },
        "id": "56ZBaX3feWn1",
        "outputId": "5caa67b9-0f37-4dbb-9675-2c9d02a6314a"
      },
      "execution_count": null,
      "outputs": [
        {
          "output_type": "stream",
          "name": "stdout",
          "text": [
            "Кирилл Скрами Иовоа Иоыаыполд\n",
            "КСИИ"
          ]
        }
      ]
    },
    {
      "cell_type": "code",
      "source": [
        "link = 'https://www.youtube.com/watch?v=kbxkq_w51PM'\n",
        "\n",
        "temp_1 = 'https://youtu.be/'\n",
        "temp_2 = \"https://www.youtube.com/\"\n",
        "\n",
        "if temp_1 in link:\n",
        "  link_new = link.replace(temp_1,'')\n",
        "  print(link_new)\n",
        "if temp_2 in link:\n",
        "  link_new = link.replace(temp_2,'')\n",
        "  print(link_new)\n"
      ],
      "metadata": {
        "colab": {
          "base_uri": "https://localhost:8080/"
        },
        "id": "rjuzgp1fhHay",
        "outputId": "5aef20d2-6e25-45f6-c852-40f99fd898b2"
      },
      "execution_count": null,
      "outputs": [
        {
          "output_type": "stream",
          "name": "stdout",
          "text": [
            "watch?v=kbxkq_w51PM\n"
          ]
        }
      ]
    },
    {
      "cell_type": "code",
      "source": [
        "link = 'https://www.youtube.com/watch?v=kbxkq_w51PM'\n",
        "\n",
        "temp_1 = 'e/'\n",
        "temp_2 = \"=\"\n",
        "\n",
        "if temp_1 in link:\n",
        "  n = link.find(temp_1)\n",
        "  print(link[n+1:])\n",
        "if temp_2 in link:\n",
        "  n = link.find(temp_2)\n",
        "  print(link[n+1:])\n",
        "\n",
        "#print(n)\n"
      ],
      "metadata": {
        "colab": {
          "base_uri": "https://localhost:8080/"
        },
        "id": "7esCtto9kozn",
        "outputId": "74e8d4a7-dfd8-494d-d2cc-886e7aa06387"
      },
      "execution_count": null,
      "outputs": [
        {
          "output_type": "stream",
          "name": "stdout",
          "text": [
            "kbxkq_w51PM\n"
          ]
        }
      ]
    },
    {
      "cell_type": "code",
      "source": [
        "time = \"1:15 PM\"\n",
        "\n",
        "if \"AM\" in time:\n",
        "  print(time.replace(\" AM\",\"\"))\n",
        "if \"PM\" in time:\n",
        "  time_new = time.replace(\" PM\",\"\")\n",
        "  h,m = time_new.split(\":\")\n",
        "  h_new = int(h)+12\n",
        "  print(f'{h_new}:{m}')\n",
        "\n"
      ],
      "metadata": {
        "colab": {
          "base_uri": "https://localhost:8080/"
        },
        "id": "mLPRbQ9gmONE",
        "outputId": "03ffd71c-2e0e-40bc-dc45-1b0cbcb2cd8d"
      },
      "execution_count": null,
      "outputs": [
        {
          "output_type": "stream",
          "name": "stdout",
          "text": [
            "13:15\n"
          ]
        }
      ]
    },
    {
      "cell_type": "markdown",
      "source": [],
      "metadata": {
        "id": "I8NR5x1hkonw"
      }
    },
    {
      "cell_type": "markdown",
      "source": [
        "\n",
        "st = 'Кирилл Мельников'\n",
        "\n",
        "name,surname = st.split()\n",
        "print(name)\n",
        "print(surname)\n",
        "\n",
        "if name.isalpha() and surname.isalpha():\n",
        "    print(f'Привет, {name} {surname}!')\n",
        "else:\n",
        "    print('Неimport math корректные имя или фамилия')"
      ],
      "metadata": {
        "id": "ZHKMDQGCnP-w"
      }
    },
    {
      "cell_type": "code",
      "source": [
        "from math import log10\n",
        "\n",
        "N = 100\n",
        "x0 = 0\n",
        "xn = 0.4\n",
        "dx = (xn-x1)/N\n",
        "x_min = 0\n",
        "df_min = 1e10\n",
        "\n",
        "for n in range(1,N+1):\n",
        "  x = x0 +n*dx\n",
        "  f_left = x**(2*log10(x)**2)\n",
        "  f_right = 10*x**3\n",
        "  df = abs(f_left - f_right)\n",
        "  if df<df_min:\n",
        "    df_min = df\n",
        "    x_min = x\n",
        "\n",
        "\n",
        "print(x_min)"
      ],
      "metadata": {
        "colab": {
          "base_uri": "https://localhost:8080/"
        },
        "id": "iLfxQOE-0fPI",
        "outputId": "a1183875-7d29-4e9e-a963-948d3b11f4d1"
      },
      "execution_count": null,
      "outputs": [
        {
          "output_type": "stream",
          "name": "stdout",
          "text": [
            "0.1\n"
          ]
        }
      ]
    },
    {
      "cell_type": "code",
      "source": [
        "s = 'hello world'\n",
        "\n",
        "s[::-1]"
      ],
      "metadata": {
        "colab": {
          "base_uri": "https://localhost:8080/",
          "height": 35
        },
        "id": "aOq4p-WtIHhg",
        "outputId": "0753b25d-8713-44dc-f98b-694e31d91a64"
      },
      "execution_count": null,
      "outputs": [
        {
          "output_type": "execute_result",
          "data": {
            "text/plain": [
              "'dlrow olleh'"
            ],
            "application/vnd.google.colaboratory.intrinsic+json": {
              "type": "string"
            }
          },
          "metadata": {},
          "execution_count": 35
        }
      ]
    },
    {
      "cell_type": "markdown",
      "source": [
        "методы строк"
      ],
      "metadata": {
        "id": "s9B36utGJLGr"
      }
    },
    {
      "cell_type": "code",
      "source": [
        "x='hello'.upper()\n",
        "x"
      ],
      "metadata": {
        "colab": {
          "base_uri": "https://localhost:8080/",
          "height": 35
        },
        "id": "hlpb99l1JPyH",
        "outputId": "5343a204-3102-4137-f9d2-3937186dc8ca"
      },
      "execution_count": null,
      "outputs": [
        {
          "output_type": "execute_result",
          "data": {
            "text/plain": [
              "'HELLO'"
            ],
            "application/vnd.google.colaboratory.intrinsic+json": {
              "type": "string"
            }
          },
          "metadata": {},
          "execution_count": 23
        }
      ]
    },
    {
      "cell_type": "code",
      "source": [
        "for i in range(1, 4):\n",
        "    for j in range(3, 5):\n",
        "        print(i + j, end='')"
      ],
      "metadata": {
        "colab": {
          "base_uri": "https://localhost:8080/"
        },
        "id": "y4JFqkNl9hBR",
        "outputId": "bf1e9927-7b35-4cbf-e353-0319c9e3908e"
      },
      "execution_count": null,
      "outputs": [
        {
          "output_type": "stream",
          "name": "stdout",
          "text": [
            "455667"
          ]
        }
      ]
    },
    {
      "cell_type": "code",
      "source": [
        "counter = 0\n",
        "for i in range(99, 102):\n",
        "    temp = i\n",
        "    while temp > 0:\n",
        "        counter += 1\n",
        "        temp //= 10\n",
        "print(counter)"
      ],
      "metadata": {
        "colab": {
          "base_uri": "https://localhost:8080/"
        },
        "id": "hOmn8YSn_Pdc",
        "outputId": "ac8d3332-6fc2-49b6-ddd7-a34bbc5eb7e4"
      },
      "execution_count": null,
      "outputs": [
        {
          "output_type": "stream",
          "name": "stdout",
          "text": [
            "8\n"
          ]
        }
      ]
    },
    {
      "cell_type": "code",
      "source": [
        "x = int(input())\n",
        "\n",
        "for i in range(x):\n",
        "  for j in range(5):\n",
        "    print(i,sep=\" \",end=\" \")\n",
        "  print()\n"
      ],
      "metadata": {
        "colab": {
          "base_uri": "https://localhost:8080/"
        },
        "id": "KxWHJMg8_6HT",
        "outputId": "0185e0d9-a903-4c0b-88a0-0a5bd17d6702"
      },
      "execution_count": null,
      "outputs": [
        {
          "output_type": "stream",
          "name": "stdout",
          "text": [
            "3\n",
            "0 0 0 0 0 \n",
            "1 1 1 1 1 \n",
            "2 2 2 2 2 \n"
          ]
        }
      ]
    },
    {
      "cell_type": "code",
      "source": [
        "n = int(input())\n",
        "centr = n // 2 + 1\n",
        "count = 0\n",
        "for i in range(1, n + 1):\n",
        "    if i > centr:\n",
        "        count -= 1\n",
        "    else:\n",
        "        count += 1\n",
        "\n",
        "    for _ in range(count):\n",
        "        print('*', end='')\n",
        "    print()"
      ],
      "metadata": {
        "colab": {
          "base_uri": "https://localhost:8080/"
        },
        "id": "GTrKxmLiBRQv",
        "outputId": "15e72410-5297-4c7a-8ab8-5c470a1b1443"
      },
      "execution_count": null,
      "outputs": [
        {
          "output_type": "stream",
          "name": "stdout",
          "text": [
            "3\n",
            "*\n",
            "**\n",
            "*\n"
          ]
        }
      ]
    },
    {
      "cell_type": "code",
      "source": [
        "s = 'All you need is love'\n",
        "if 'love' in s:\n",
        "    print('❤️')\n",
        "else:\n",
        "    print('💔')"
      ],
      "metadata": {
        "colab": {
          "base_uri": "https://localhost:8080/"
        },
        "id": "I6qiz0W1V16Y",
        "outputId": "4416b583-7d30-410d-cd85-2c7052cce67e"
      },
      "execution_count": 1,
      "outputs": [
        {
          "output_type": "stream",
          "name": "stdout",
          "text": [
            "❤️\n"
          ]
        }
      ]
    },
    {
      "cell_type": "code",
      "source": [
        "s = 'abcdef'\n",
        "for c in s:\n",
        "    print(c)"
      ],
      "metadata": {
        "colab": {
          "base_uri": "https://localhost:8080/"
        },
        "id": "AGDyjh9tXJ59",
        "outputId": "505294cf-0307-4d56-e991-ef3b51e4739a"
      },
      "execution_count": 6,
      "outputs": [
        {
          "output_type": "stream",
          "name": "stdout",
          "text": [
            "a\n",
            "b\n",
            "c\n",
            "d\n",
            "e\n",
            "f\n"
          ]
        }
      ]
    },
    {
      "cell_type": "code",
      "source": [
        "s = 'abcdef'\n",
        "for i in range(len(s)):\n",
        "    print(s[i])"
      ],
      "metadata": {
        "colab": {
          "base_uri": "https://localhost:8080/"
        },
        "id": "Du6BASO9XKa-",
        "outputId": "d782f9f2-188f-49cd-8054-c1051da8441a"
      },
      "execution_count": 10,
      "outputs": [
        {
          "output_type": "stream",
          "name": "stdout",
          "text": [
            "a\n",
            "b\n",
            "c\n",
            "d\n",
            "e\n",
            "f\n"
          ]
        }
      ]
    },
    {
      "cell_type": "code",
      "source": [
        "s = '01234567891011121314151617'\n",
        "for i in range(0, len(s), 5):\n",
        "    print(s[i], end='')"
      ],
      "metadata": {
        "colab": {
          "base_uri": "https://localhost:8080/"
        },
        "id": "zWjpZa_8YIVB",
        "outputId": "abbf5798-ab60-4550-9812-c8ca24fabfa6"
      },
      "execution_count": 11,
      "outputs": [
        {
          "output_type": "stream",
          "name": "stdout",
          "text": [
            "051217"
          ]
        }
      ]
    },
    {
      "cell_type": "code",
      "source": [
        "s = input()\n",
        "\n",
        "for c in range(s):\n",
        "  if len(s)//2==0:\n",
        "\n",
        "print(s)"
      ],
      "metadata": {
        "colab": {
          "base_uri": "https://localhost:8080/",
          "height": 124
        },
        "id": "OZrvDI4YZZ3O",
        "outputId": "b6031497-1919-4a2d-da9d-c52853dcdb95"
      },
      "execution_count": 27,
      "outputs": [
        {
          "output_type": "error",
          "ename": "IndentationError",
          "evalue": "expected an indented block after 'if' statement on line 4 (<ipython-input-27-70ba614e2fd3>, line 6)",
          "traceback": [
            "\u001b[0;36m  File \u001b[0;32m\"<ipython-input-27-70ba614e2fd3>\"\u001b[0;36m, line \u001b[0;32m6\u001b[0m\n\u001b[0;31m    print(s)\u001b[0m\n\u001b[0m            ^\u001b[0m\n\u001b[0;31mIndentationError\u001b[0m\u001b[0;31m:\u001b[0m expected an indented block after 'if' statement on line 4\n"
          ]
        }
      ]
    },
    {
      "cell_type": "code",
      "source": [
        "from string import ascii_uppercase\n",
        "\n",
        "size = 15\n",
        "step = 1 if size<10 else 2\n",
        "\n",
        "print('Игровое поле:')\n",
        "line = ' '*2\n",
        "for letter in ascii_uppercase[:size]:\n",
        "  line += ' '+ letter\n",
        "print(line)\n",
        "\n",
        "tilda_line = ' ~'*size\n",
        "for num in range(1,size+1):\n",
        "  line = ' ' if num < 10 else ''\n",
        "  line += f' {num}' + tilda_line\n",
        "  print(line)\n",
        "\n"
      ],
      "metadata": {
        "colab": {
          "base_uri": "https://localhost:8080/"
        },
        "id": "16PjnJOCdoJC",
        "outputId": "40f6fef5-02b6-4c33-936a-5c1f5d77a3cb"
      },
      "execution_count": 39,
      "outputs": [
        {
          "output_type": "stream",
          "name": "stdout",
          "text": [
            "Игровое поле:\n",
            "   A B C D E F G H I J K L M N O\n",
            "  1 ~ ~ ~ ~ ~ ~ ~ ~ ~ ~ ~ ~ ~ ~ ~\n",
            "  2 ~ ~ ~ ~ ~ ~ ~ ~ ~ ~ ~ ~ ~ ~ ~\n",
            "  3 ~ ~ ~ ~ ~ ~ ~ ~ ~ ~ ~ ~ ~ ~ ~\n",
            "  4 ~ ~ ~ ~ ~ ~ ~ ~ ~ ~ ~ ~ ~ ~ ~\n",
            "  5 ~ ~ ~ ~ ~ ~ ~ ~ ~ ~ ~ ~ ~ ~ ~\n",
            "  6 ~ ~ ~ ~ ~ ~ ~ ~ ~ ~ ~ ~ ~ ~ ~\n",
            "  7 ~ ~ ~ ~ ~ ~ ~ ~ ~ ~ ~ ~ ~ ~ ~\n",
            "  8 ~ ~ ~ ~ ~ ~ ~ ~ ~ ~ ~ ~ ~ ~ ~\n",
            "  9 ~ ~ ~ ~ ~ ~ ~ ~ ~ ~ ~ ~ ~ ~ ~\n",
            " 10 ~ ~ ~ ~ ~ ~ ~ ~ ~ ~ ~ ~ ~ ~ ~\n",
            " 11 ~ ~ ~ ~ ~ ~ ~ ~ ~ ~ ~ ~ ~ ~ ~\n",
            " 12 ~ ~ ~ ~ ~ ~ ~ ~ ~ ~ ~ ~ ~ ~ ~\n",
            " 13 ~ ~ ~ ~ ~ ~ ~ ~ ~ ~ ~ ~ ~ ~ ~\n",
            " 14 ~ ~ ~ ~ ~ ~ ~ ~ ~ ~ ~ ~ ~ ~ ~\n",
            " 15 ~ ~ ~ ~ ~ ~ ~ ~ ~ ~ ~ ~ ~ ~ ~\n"
          ]
        }
      ]
    },
    {
      "cell_type": "markdown",
      "source": [
        "импорт библиотек"
      ],
      "metadata": {
        "id": "DE4Qf-YsRozf"
      }
    },
    {
      "cell_type": "code",
      "source": [
        "import os\n",
        "\n",
        "import numpy as np\n",
        "import pandas as pd\n",
        "from pandas.tseries.holiday import USFederalHolidayCalendar\n",
        "\n",
        "import matplotlib.pyplot as plt\n",
        "import seaborn as sns\n",
        "\n",
        "from tqdm import tqdm_notebook\n",
        "from datetime import datetime, timedelta\n",
        "\n",
        "import torch\n",
        "\n",
        "import warnings\n",
        "\n",
        "warnings.filterwarnings('ignore')"
      ],
      "metadata": {
        "id": "OEGAWIBjOQ2z"
      },
      "execution_count": 2,
      "outputs": []
    },
    {
      "cell_type": "code",
      "source": [
        "RANDOM_STATE = 42\n",
        "TEST_SIZE = 0,25\n",
        "N_THEREADS = 4\n",
        "N_FOLDS = 5\n",
        "TIMEOUT = 300"
      ],
      "metadata": {
        "id": "iKW9VPvgQ62I"
      },
      "execution_count": 4,
      "outputs": []
    },
    {
      "cell_type": "code",
      "source": [
        "np.random.seed(RANDOM_STATE)"
      ],
      "metadata": {
        "id": "YLXzy8GARX1c"
      },
      "execution_count": 5,
      "outputs": []
    },
    {
      "cell_type": "markdown",
      "source": [
        "чтение искачивание данных"
      ],
      "metadata": {
        "id": "VeIRYslmRtMO"
      }
    },
    {
      "cell_type": "code",
      "source": [
        "/content/sample_submission.csv\n",
        "test = pd.read_csv('/content/test.csv')\n",
        "df = pd.read_csv('/content/train.csv')"
      ],
      "metadata": {
        "id": "uuemoIk4Rnx2"
      },
      "execution_count": null,
      "outputs": []
    }
  ]
}